{
 "cells": [
  {
   "cell_type": "code",
   "execution_count": 1,
   "metadata": {},
   "outputs": [],
   "source": [
    "import pandas as pd\n",
    "import numpy as np\n",
    "import matplotlib.pyplot as plt\n",
    "import nltk"
   ]
  },
  {
   "cell_type": "code",
   "execution_count": 2,
   "metadata": {},
   "outputs": [],
   "source": [
    "param_alpha = 0.01\n",
    "param_corpus = 'corpus/text_corpus.txt'\n",
    "param_model = 'arthur_c.sqlite'\n",
    "param_verbose = True\n",
    "param_balancing = False"
   ]
  },
  {
   "cell_type": "code",
   "execution_count": 3,
   "metadata": {},
   "outputs": [],
   "source": [
    " prominence_n1 = pd.DataFrame(columns=['word1', 'cooc'])\n",
    "prominence_n2 = pd.DataFrame(columns=['word1', 'word2', 'cooc'])\n",
    "prominence_n3 = pd.DataFrame(columns=['word1', 'word2', 'word3', 'cooc'])\n",
    "prominence_n4 = pd.DataFrame(columns=['word1', 'word2', 'word3', 'word4', 'cooc'])"
   ]
  },
  {
   "cell_type": "code",
   "execution_count": 4,
   "metadata": {},
   "outputs": [
    {
     "data": {
      "text/html": [
       "<div>\n",
       "<style scoped>\n",
       "    .dataframe tbody tr th:only-of-type {\n",
       "        vertical-align: middle;\n",
       "    }\n",
       "\n",
       "    .dataframe tbody tr th {\n",
       "        vertical-align: top;\n",
       "    }\n",
       "\n",
       "    .dataframe thead th {\n",
       "        text-align: right;\n",
       "    }\n",
       "</style>\n",
       "<table border=\"1\" class=\"dataframe\">\n",
       "  <thead>\n",
       "    <tr style=\"text-align: right;\">\n",
       "      <th></th>\n",
       "      <th>word1</th>\n",
       "      <th>word2</th>\n",
       "      <th>cooc</th>\n",
       "    </tr>\n",
       "  </thead>\n",
       "  <tbody>\n",
       "    <tr>\n",
       "      <th>0</th>\n",
       "      <td>korte</td>\n",
       "      <td>fa</td>\n",
       "      <td>42</td>\n",
       "    </tr>\n",
       "    <tr>\n",
       "      <th>1</th>\n",
       "      <td>szilva</td>\n",
       "      <td>fa</td>\n",
       "      <td>15</td>\n",
       "    </tr>\n",
       "    <tr>\n",
       "      <th>2</th>\n",
       "      <td>rozsa</td>\n",
       "      <td>level</td>\n",
       "      <td>15</td>\n",
       "    </tr>\n",
       "  </tbody>\n",
       "</table>\n",
       "</div>"
      ],
      "text/plain": [
       "    word1  word2 cooc\n",
       "0   korte     fa   42\n",
       "1  szilva     fa   15\n",
       "2   rozsa  level   15"
      ]
     },
     "execution_count": 4,
     "metadata": {},
     "output_type": "execute_result"
    }
   ],
   "source": [
    "df1 = prominence_n2[prominence_n3.word1=='alma']\n",
    "len(df1.index)\n",
    "df1 = df1.append(pd.DataFrame({'word1': ['korte'], 'word2': ['fa'],  'cooc': [42]}),ignore_index=True, sort=False)\n",
    "df1 = df1.append(pd.DataFrame({'word1': ['szilva'], 'word2': ['fa'],  'cooc': [15]}),ignore_index=True, sort=False)\n",
    "df1 = df1.append(pd.DataFrame({'word1': ['rozsa'], 'word2': ['level'],  'cooc': [15]}),ignore_index=True, sort=False)\n",
    "df1"
   ]
  },
  {
   "cell_type": "code",
   "execution_count": 5,
   "metadata": {},
   "outputs": [
    {
     "data": {
      "text/html": [
       "<div>\n",
       "<style scoped>\n",
       "    .dataframe tbody tr th:only-of-type {\n",
       "        vertical-align: middle;\n",
       "    }\n",
       "\n",
       "    .dataframe tbody tr th {\n",
       "        vertical-align: top;\n",
       "    }\n",
       "\n",
       "    .dataframe thead th {\n",
       "        text-align: right;\n",
       "    }\n",
       "</style>\n",
       "<table border=\"1\" class=\"dataframe\">\n",
       "  <thead>\n",
       "    <tr style=\"text-align: right;\">\n",
       "      <th></th>\n",
       "      <th>word1</th>\n",
       "      <th>word2</th>\n",
       "      <th>cooc</th>\n",
       "    </tr>\n",
       "  </thead>\n",
       "  <tbody>\n",
       "    <tr>\n",
       "      <th>0</th>\n",
       "      <td>korte</td>\n",
       "      <td>fa</td>\n",
       "      <td>4</td>\n",
       "    </tr>\n",
       "    <tr>\n",
       "      <th>1</th>\n",
       "      <td>szilva</td>\n",
       "      <td>fa</td>\n",
       "      <td>4</td>\n",
       "    </tr>\n",
       "    <tr>\n",
       "      <th>2</th>\n",
       "      <td>rozsa</td>\n",
       "      <td>level</td>\n",
       "      <td>15</td>\n",
       "    </tr>\n",
       "  </tbody>\n",
       "</table>\n",
       "</div>"
      ],
      "text/plain": [
       "    word1  word2 cooc\n",
       "0   korte     fa    4\n",
       "1  szilva     fa    4\n",
       "2   rozsa  level   15"
      ]
     },
     "execution_count": 5,
     "metadata": {},
     "output_type": "execute_result"
    }
   ],
   "source": [
    "# update cooc where ...\n",
    "# df1.loc[df1.word2 == 'fa', 'cooc'] = df1.loc[df1.word2 == 'fa', 'cooc'] +1 \n",
    "df1.loc[df1.word2 == 'fa', 'cooc'] = 4\n",
    "df1"
   ]
  },
  {
   "cell_type": "code",
   "execution_count": 6,
   "metadata": {},
   "outputs": [],
   "source": [
    "def process_ngram1(pos, sentence):\n",
    "  n = 1\n",
    "  word1 = sentence[pos]\n",
    "  word1 = word1.upper()\n",
    "\n",
    "  # read the unigram\n",
    "  records = prominence_n1[prominence_n1.word1==word1]\n",
    "  # update the unigram\n",
    "  if not len(records.index):\n",
    "    c = 1 * param_alpha\n",
    "    prominence_n1 = prominence_n1.append(pd.DataFrame({'word1': [word1],  'cooc': [c]}),ignore_index=True, sort=False)\n",
    "  else:\n",
    "    oldc = records.loc[0, 'cooc']\n",
    "    c = oldc * (1 - param_alpha) + 1 * param_alpha\n",
    "    prominence_n1.loc[prominence_n1.word1 == word1, 'cooc'] = c \n",
    "  # update weights for other unigrams\n",
    "  if param_balancing:\n",
    "    prominence_n1.loc[prominence_n1.word1 != word1, 'cooc'] = prominence_n1.loc[prominence_n1.word1 != word1, 'cooc'] * (1 - param_alpha) \n",
    "  # finish\n",
    "  if param_verbose:\n",
    "    print(\"Updated unigram: {w1}\".format(w1=word1))\n"
   ]
  },
  {
   "cell_type": "code",
   "execution_count": 7,
   "metadata": {},
   "outputs": [],
   "source": [
    "def process_corpus():\n",
    "  with open(param_corpus) as infile:\n",
    "    for line in infile:\n",
    "      for sentence in nltk.sent_tokenize(line):\n",
    "        tokenized_sentence = nltk.word_tokenize(sentence)\n",
    "        for pos, word in enumerate(tokenized_sentence):\n",
    "          process_ngram1(pos, tokenized_sentence)\n",
    "  print(\"Done processing corpus\")\n"
   ]
  },
  {
   "cell_type": "code",
   "execution_count": 8,
   "metadata": {},
   "outputs": [],
   "source": [
    "records = prominence_n1[prominence_n1.word1=='akma']"
   ]
  },
  {
   "cell_type": "code",
   "execution_count": 9,
   "metadata": {},
   "outputs": [
    {
     "ename": "UnboundLocalError",
     "evalue": "local variable 'prominence_n1' referenced before assignment",
     "output_type": "error",
     "traceback": [
      "\u001b[0;31m---------------------------------------------------------------------------\u001b[0m",
      "\u001b[0;31mUnboundLocalError\u001b[0m                         Traceback (most recent call last)",
      "\u001b[0;32m<ipython-input-9-5094680cd96c>\u001b[0m in \u001b[0;36m<module>\u001b[0;34m\u001b[0m\n\u001b[0;32m----> 1\u001b[0;31m \u001b[0mprocess_corpus\u001b[0m\u001b[0;34m(\u001b[0m\u001b[0;34m)\u001b[0m\u001b[0;34m\u001b[0m\u001b[0m\n\u001b[0m",
      "\u001b[0;32m<ipython-input-7-a481a39cc3f4>\u001b[0m in \u001b[0;36mprocess_corpus\u001b[0;34m()\u001b[0m\n\u001b[1;32m      5\u001b[0m         \u001b[0mtokenized_sentence\u001b[0m \u001b[0;34m=\u001b[0m \u001b[0mnltk\u001b[0m\u001b[0;34m.\u001b[0m\u001b[0mword_tokenize\u001b[0m\u001b[0;34m(\u001b[0m\u001b[0msentence\u001b[0m\u001b[0;34m)\u001b[0m\u001b[0;34m\u001b[0m\u001b[0m\n\u001b[1;32m      6\u001b[0m         \u001b[0;32mfor\u001b[0m \u001b[0mpos\u001b[0m\u001b[0;34m,\u001b[0m \u001b[0mword\u001b[0m \u001b[0;32min\u001b[0m \u001b[0menumerate\u001b[0m\u001b[0;34m(\u001b[0m\u001b[0mtokenized_sentence\u001b[0m\u001b[0;34m)\u001b[0m\u001b[0;34m:\u001b[0m\u001b[0;34m\u001b[0m\u001b[0m\n\u001b[0;32m----> 7\u001b[0;31m           \u001b[0mprocess_ngram1\u001b[0m\u001b[0;34m(\u001b[0m\u001b[0mpos\u001b[0m\u001b[0;34m,\u001b[0m \u001b[0mtokenized_sentence\u001b[0m\u001b[0;34m)\u001b[0m\u001b[0;34m\u001b[0m\u001b[0m\n\u001b[0m\u001b[1;32m      8\u001b[0m   \u001b[0mprint\u001b[0m\u001b[0;34m(\u001b[0m\u001b[0;34m\"Done processing corpus\"\u001b[0m\u001b[0;34m)\u001b[0m\u001b[0;34m\u001b[0m\u001b[0m\n",
      "\u001b[0;32m<ipython-input-6-02066222e0f3>\u001b[0m in \u001b[0;36mprocess_ngram1\u001b[0;34m(pos, sentence)\u001b[0m\n\u001b[1;32m      5\u001b[0m \u001b[0;34m\u001b[0m\u001b[0m\n\u001b[1;32m      6\u001b[0m   \u001b[0;31m# read the unigram\u001b[0m\u001b[0;34m\u001b[0m\u001b[0;34m\u001b[0m\u001b[0m\n\u001b[0;32m----> 7\u001b[0;31m   \u001b[0mrecords\u001b[0m \u001b[0;34m=\u001b[0m \u001b[0mprominence_n1\u001b[0m\u001b[0;34m[\u001b[0m\u001b[0mprominence_n1\u001b[0m\u001b[0;34m.\u001b[0m\u001b[0mword1\u001b[0m\u001b[0;34m==\u001b[0m\u001b[0mword1\u001b[0m\u001b[0;34m]\u001b[0m\u001b[0;34m\u001b[0m\u001b[0m\n\u001b[0m\u001b[1;32m      8\u001b[0m   \u001b[0;31m# update the unigram\u001b[0m\u001b[0;34m\u001b[0m\u001b[0;34m\u001b[0m\u001b[0m\n\u001b[1;32m      9\u001b[0m   \u001b[0;32mif\u001b[0m \u001b[0;32mnot\u001b[0m \u001b[0mlen\u001b[0m\u001b[0;34m(\u001b[0m\u001b[0mrecords\u001b[0m\u001b[0;34m.\u001b[0m\u001b[0mindex\u001b[0m\u001b[0;34m)\u001b[0m\u001b[0;34m:\u001b[0m\u001b[0;34m\u001b[0m\u001b[0m\n",
      "\u001b[0;31mUnboundLocalError\u001b[0m: local variable 'prominence_n1' referenced before assignment"
     ]
    }
   ],
   "source": [
    "process_corpus()"
   ]
  },
  {
   "cell_type": "code",
   "execution_count": null,
   "metadata": {},
   "outputs": [],
   "source": []
  }
 ],
 "metadata": {
  "kernelspec": {
   "display_name": "Python 3",
   "language": "python",
   "name": "python3"
  },
  "language_info": {
   "codemirror_mode": {
    "name": "ipython",
    "version": 3
   },
   "file_extension": ".py",
   "mimetype": "text/x-python",
   "name": "python",
   "nbconvert_exporter": "python",
   "pygments_lexer": "ipython3",
   "version": "3.5.2"
  }
 },
 "nbformat": 4,
 "nbformat_minor": 2
}
